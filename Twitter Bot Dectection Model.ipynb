{
 "cells": [
  {
   "cell_type": "markdown",
   "id": "11f2f249",
   "metadata": {},
   "source": [
    "## Question 3 Kaggle Competition"
   ]
  },
  {
   "cell_type": "code",
   "execution_count": 6,
   "id": "72936005",
   "metadata": {},
   "outputs": [],
   "source": [
    "import numpy as np, pandas as pd\n",
    "import emoji\n",
    "from scipy import sparse\n",
    "from sklearn.model_selection import train_test_split, StratifiedKFold, cross_val_score\n",
    "from sklearn.feature_extraction.text import TfidfVectorizer\n",
    "from sklearn.preprocessing import OneHotEncoder\n",
    "from xgboost import XGBClassifier"
   ]
  },
  {
   "cell_type": "markdown",
   "id": "fea323ed",
   "metadata": {},
   "source": [
    "## 1. Load Data & Drop Columns"
   ]
  },
  {
   "cell_type": "code",
   "execution_count": 7,
   "id": "0a51f160",
   "metadata": {},
   "outputs": [],
   "source": [
    "train = pd.read_csv(\"train.csv\")\n",
    "test = pd.read_csv(\"test.csv\")\n",
    "\n",
    "columns_drop = [\n",
    "    'id',\n",
    "    'created_at',\n",
    "    'profile_background_image_url',\n",
    "    'profile_image_url',\n",
    "]\n",
    "\n",
    "train = train.drop(columns=columns_drop, errors='ignore')\n",
    "test = test.drop(columns=columns_drop, errors='ignore')"
   ]
  },
  {
   "cell_type": "markdown",
   "id": "adc72509",
   "metadata": {},
   "source": [
    "## 2. Data Engineeering"
   ]
  },
  {
   "cell_type": "code",
   "execution_count": 8,
   "id": "7e5159fe",
   "metadata": {},
   "outputs": [],
   "source": [
    "# Emoji\n",
    "def count_emojis(text):\n",
    "    return sum(1 for char in str(text) if emoji.is_emoji(char))\n",
    "\n",
    "def has_emoji(text):\n",
    "    return int(any(emoji.is_emoji(char) for char in str(text)))\n",
    "\n",
    "# Numeric features\n",
    "def numeric_block(df):\n",
    "    num = df[['followers_count',\n",
    "              'friends_count',\n",
    "              'favourites_count',        \n",
    "              'statuses_count',\n",
    "              'average_tweets_per_day',\n",
    "              'account_age_days']].copy()\n",
    "\n",
    "    num['followers_to_friends']   = df['followers_count'] / (df['friends_count'] + 1)\n",
    "    num['favourites_per_status']  = df['favourites_count'] / (df['statuses_count'] + 1)\n",
    "    num['tweets_per_day']         = df['statuses_count'] / (df['account_age_days'] + 1)\n",
    "\n",
    "    for col in ['default_profile', 'default_profile_image', 'geo_enabled', 'verified']:\n",
    "        num[col] = df[col].astype(int)\n",
    "\n",
    "    return num"
   ]
  },
  {
   "cell_type": "code",
   "execution_count": 9,
   "id": "4d5a4fa4",
   "metadata": {},
   "outputs": [],
   "source": [
    "# Screen name\n",
    "def sn_feats(series):\n",
    "    f = pd.DataFrame(index=series.index)\n",
    "    f['sn_len']           = series.str.len()\n",
    "    f['sn_digits']        = series.str.count(r'\\d')\n",
    "    f['sn_digit_ratio']   = f['sn_digits'] / f['sn_len'].clip(lower=1)\n",
    "    f['sn_ends_year']     = series.str.contains(r'\\d{4}$').astype(int)\n",
    "    f['sn_has_underscore']= series.str.contains('_').astype(int)\n",
    "    return f.astype(np.float32)\n",
    "\n",
    "# Fill NA\n",
    "for col in ['screen_name', 'description', 'location', 'lang']:\n",
    "    train[col] = train[col].fillna('')\n",
    "    test[col]  = test[col].fillna('')\n",
    "\n",
    "# Num features\n",
    "X_num = numeric_block(train)\n",
    "X_num_test = numeric_block(test)\n",
    "\n",
    "# Text & Emoji\n",
    "for df, store in [(train, X_num), (test, X_num_test)]:\n",
    "    store['desc_len']         = df['description'].str.len()\n",
    "    store['desc_has_url']     = df['description'].str.contains('http').astype(int)\n",
    "    store['loc_len']          = df['location'].str.len()\n",
    "    store['desc_has_emoji']   = df['description'].apply(has_emoji)\n",
    "    store['desc_emoji_count'] = df['description'].apply(count_emojis)"
   ]
  },
  {
   "cell_type": "code",
   "execution_count": 10,
   "id": "6df12e1d",
   "metadata": {},
   "outputs": [],
   "source": [
    "# Align column names\n",
    "num_cols = X_num.columns.tolist()\n",
    "X_num_test = X_num_test.reindex(columns=num_cols, fill_value=0)\n",
    "\n",
    "# Language one hot\n",
    "COMMON = train['lang'].value_counts().index[:15]\n",
    "train['lang'] = train['lang'].where(train['lang'].isin(COMMON), 'other')\n",
    "test['lang']  = test['lang'].where(test['lang'].isin(COMMON), 'other')\n",
    "\n",
    "ohe = OneHotEncoder(sparse_output=True, handle_unknown='ignore')\n",
    "lang_train = ohe.fit_transform(train[['lang']])\n",
    "lang_test  = ohe.transform(test[['lang']])\n",
    "\n",
    "# Screen name \n",
    "X_sn_train = sn_feats(train['screen_name'])\n",
    "X_sn_test  = sn_feats(test['screen_name'])\n",
    "\n",
    "# TF IDF\n",
    "tfidf_desc = TfidfVectorizer(max_features=8000, stop_words='english')\n",
    "tfidf_loc  = TfidfVectorizer(max_features=2000, stop_words='english')\n",
    "\n",
    "desc_train = tfidf_desc.fit_transform(train['description'])\n",
    "desc_test  = tfidf_desc.transform(test['description'])\n",
    "\n",
    "loc_train = tfidf_loc.fit_transform(train['location'])\n",
    "loc_test  = tfidf_loc.transform(test['location'])"
   ]
  },
  {
   "cell_type": "markdown",
   "id": "55b200a7",
   "metadata": {},
   "source": [
    "### 2.1 Converting Sparse"
   ]
  },
  {
   "cell_type": "code",
   "execution_count": 11,
   "id": "4fa264bd",
   "metadata": {},
   "outputs": [
    {
     "name": "stdout",
     "output_type": "stream",
     "text": [
      "Train matrix shape: (26206, 10039)\n",
      "Test matrix shape: (11232, 10039)\n"
     ]
    }
   ],
   "source": [
    "X_num_sp = sparse.csr_matrix(X_num.values.astype(np.float32))\n",
    "X_num_sp_test = sparse.csr_matrix(X_num_test.values.astype(np.float32))\n",
    "\n",
    "X_sn_sp = sparse.csr_matrix(X_sn_train.values.astype(np.float32))\n",
    "X_sn_sp_test = sparse.csr_matrix(X_sn_test.values.astype(np.float32))\n",
    "\n",
    "# ====== Final merged sparse matrices ======\n",
    "X_full = sparse.hstack([X_num_sp, lang_train, X_sn_sp, desc_train, loc_train]).tocsr()\n",
    "X_test_f = sparse.hstack([X_num_sp_test, lang_test, X_sn_sp_test, desc_test, loc_test]).tocsr()\n",
    "\n",
    "print(\"Train matrix shape:\", X_full.shape)\n",
    "print(\"Test matrix shape:\", X_test_f.shape)\n",
    "\n",
    "# matrix shape: (num of samples, features)"
   ]
  },
  {
   "cell_type": "markdown",
   "id": "94019ec5",
   "metadata": {},
   "source": [
    "## 3. Splitting"
   ]
  },
  {
   "cell_type": "code",
   "execution_count": 12,
   "id": "a9b49875",
   "metadata": {},
   "outputs": [],
   "source": [
    "X_train = train.drop(\"target\", axis=1)\n",
    "y_train = train[\"target\"] "
   ]
  },
  {
   "cell_type": "code",
   "execution_count": 13,
   "id": "86834b5f",
   "metadata": {},
   "outputs": [],
   "source": [
    "# Train-validation split\n",
    "X_tr, X_val, y_tr, y_val = train_test_split(\n",
    "    X_full, y_train,\n",
    "    test_size=0.2,\n",
    "    stratify=y_train,\n",
    "    random_state=2025\n",
    ")"
   ]
  },
  {
   "cell_type": "code",
   "execution_count": 14,
   "id": "78181ef3",
   "metadata": {},
   "outputs": [],
   "source": [
    "from xgboost import XGBClassifier\n",
    "from sklearn.model_selection import train_test_split\n",
    "\n",
    "# Define the class weights to handle imbalance\n",
    "pos_weight = (y_train == 0).sum() / (y_train == 1).sum()\n",
    "\n",
    "# parameters\n",
    "params = {\n",
    "    'n_estimators': 400,\n",
    "    'learning_rate': 0.0137,\n",
    "    'max_depth': 9,\n",
    "    'min_child_weight': 5.022,\n",
    "    'subsample': 0.6271,\n",
    "    'colsample_bytree': 0.577,\n",
    "    'gamma': 0.6022,\n",
    "    'reg_lambda': 0.01326,\n",
    "    'reg_alpha': 0.01161,\n",
    "    'scale_pos_weight': pos_weight,\n",
    "    'eval_metric': 'auc',\n",
    "    'objective': 'binary:logistic',\n",
    "    'tree_method': 'hist',\n",
    "    'n_jobs': -1,\n",
    "    'random_state': 2025\n",
    "}\n",
    "\n",
    "\n",
    "# Initialize and train model\n",
    "final_model = XGBClassifier(**params)\n",
    "final_model.fit(\n",
    "    X_tr, y_tr,\n",
    "    eval_set=[(X_val, y_val)],  # For AUC monitoring (won’t early stop)\n",
    "    verbose=False\n",
    ")\n",
    "\n",
    "# Predict on test set\n",
    "y_pred = final_model.predict(X_test_f)\n"
   ]
  },
  {
   "cell_type": "code",
   "execution_count": 15,
   "id": "1059b511",
   "metadata": {},
   "outputs": [
    {
     "name": "stdout",
     "output_type": "stream",
     "text": [
      "submission.csv with probabilities saved ✅\n"
     ]
    }
   ],
   "source": [
    "# ---- probability of class 1 (bot) ----\n",
    "y_prob = final_model.predict_proba(X_test_f)[:, 1]   # float in [0,1]\n",
    "\n",
    "submission = pd.DataFrame({\n",
    "    \"index\": range(len(y_prob)),\n",
    "    \"target\": y_prob          # <-- probabilities, not labels\n",
    "})\n",
    "submission.to_csv(\"XGBFinal_testingveeer400.csv\", index=False)\n",
    "print(\"submission.csv with probabilities saved ✅\")\n"
   ]
  },
  {
   "cell_type": "code",
   "execution_count": 16,
   "id": "656eb940",
   "metadata": {},
   "outputs": [
    {
     "name": "stdout",
     "output_type": "stream",
     "text": [
      "Train AUC: 0.9769469451493473\n",
      "Val AUC: 0.9478142359849393\n"
     ]
    }
   ],
   "source": [
    "from sklearn.metrics import roc_auc_score\n",
    "\n",
    "print(\"Train AUC:\", roc_auc_score(y_tr, final_model.predict_proba(X_tr)[:, 1]))\n",
    "print(\"Val AUC:\", roc_auc_score(y_val, final_model.predict_proba(X_val)[:, 1]))\n"
   ]
  },
  {
   "cell_type": "markdown",
   "id": "49ed1173",
   "metadata": {},
   "source": [
    "## Conclusion\n",
    "#### 1. Data Engineering\n",
    "- Emoji features: counts number, flag presence of least 1 emoji\n",
    "- Numeric features: basic Twitter stats and derived some into ratio and rates, converted boolean flags to integers\n",
    "- Screen Name features: length, digit count, ratio, underscores and if end with 4-digit year\n",
    "- Missing text fields: replace nulls with empty str\n",
    "- Text base features: description etc lengths, presence of url, emoji\n",
    "- Language encoding: OneHotEncoder for categorical representation, top 15 langs\n",
    "- TF-IDF vetorization\n",
    "#### 2. Model Selection \n",
    "- Choose XGBoostClassifier as model due to its:\n",
    "1. high predictive power on mixed num, cat and sparse data\n",
    "2. handles sparse and high dimensional features since we data engineered quite a bit\n",
    "3. feature selection via tree splits, reduce impact of noise\n",
    "4. can tune hyperparameter eg. max_depth to prevent overfitting (see test cases below)\n",
    "5. good in Kaggle competitions :D\n",
    "#### 3. Notes\n",
    "- The two models submitted on Kaggle are both based on XGBClassifiers from this code, but tweaked slightly different\n",
    "- The first version had a higher score on Kaggle but after checking seems to be overfitting when comparing Train AUC and Val AUC\n",
    "- After few tweaks of hyperparams it seems a bit better however the score on Kaggle had lowered ever so slightly, but lower chance of overfit"
   ]
  },
  {
   "cell_type": "code",
   "execution_count": 17,
   "id": "2a2f30d9",
   "metadata": {},
   "outputs": [],
   "source": [
    "# 1. depth 9, 1000 estimators seems to be overfitting\n",
    "#Train AUC: 0.984812218087364\n",
    "# Val AUC: 0.9500941101345795"
   ]
  },
  {
   "cell_type": "code",
   "execution_count": 18,
   "id": "e4488b8b",
   "metadata": {},
   "outputs": [],
   "source": [
    "# 2. depth 9, 500 estimators better\n",
    "# Train AUC: 0.9790576558862584\n",
    "# Val AUC: 0.9487161417866146\n"
   ]
  },
  {
   "cell_type": "code",
   "execution_count": 19,
   "id": "a11a6f52",
   "metadata": {},
   "outputs": [],
   "source": [
    "# 3. depth 9, 300 estimators underfitting\n",
    "# Train AUC: 0.975604714334724\n",
    "# Val AUC: 0.9472339786171974"
   ]
  },
  {
   "cell_type": "code",
   "execution_count": 20,
   "id": "9729f8d9",
   "metadata": {},
   "outputs": [],
   "source": [
    "# 4. depth 9, 400 estimators sweet spot??\n",
    "# Train AUC: 0.9776614672754542\n",
    "# Val AUC: 0.9481287802265012"
   ]
  }
 ],
 "metadata": {
  "kernelspec": {
   "display_name": "Python (ARM-BASE)",
   "language": "python",
   "name": "xgb-arm"
  },
  "language_info": {
   "codemirror_mode": {
    "name": "ipython",
    "version": 3
   },
   "file_extension": ".py",
   "mimetype": "text/x-python",
   "name": "python",
   "nbconvert_exporter": "python",
   "pygments_lexer": "ipython3",
   "version": "3.10.16"
  }
 },
 "nbformat": 4,
 "nbformat_minor": 5
}
